{
 "cells": [
  {
   "cell_type": "markdown",
   "id": "suburban-virtue",
   "metadata": {},
   "source": [
    "# data analysis\n",
    "\n",
    "Let's have a look into the data using pandas: https://pandas.pydata.org/docs/user_guide/10min.html"
   ]
  },
  {
   "cell_type": "code",
   "execution_count": null,
   "id": "prime-czech",
   "metadata": {},
   "outputs": [],
   "source": [
    "import pandas as pd"
   ]
  },
  {
   "cell_type": "code",
   "execution_count": null,
   "id": "after-nicholas",
   "metadata": {},
   "outputs": [],
   "source": [
    "df = pd.read_csv(\"launch-2_1.csv\")\n",
    "df.columns = [x.strip().lower() for x in df.columns]\n",
    "df.head()"
   ]
  },
  {
   "cell_type": "code",
   "execution_count": null,
   "id": "underlying-reach",
   "metadata": {},
   "outputs": [],
   "source": [
    "df.describe()"
   ]
  },
  {
   "cell_type": "markdown",
   "id": "atomic-parker",
   "metadata": {},
   "source": [
    "# visualization\n",
    "\n",
    "Let's create a simple line chart: https://plotly.com/python/line-charts/"
   ]
  },
  {
   "cell_type": "code",
   "execution_count": null,
   "id": "genetic-semiconductor",
   "metadata": {},
   "outputs": [],
   "source": [
    "import plotly.express as px"
   ]
  },
  {
   "cell_type": "code",
   "execution_count": null,
   "id": "hungry-charity",
   "metadata": {},
   "outputs": [],
   "source": [
    "fig = px.line(df, x=\"time\", y=[\"height\", \"accy\"])\n",
    "fig.write_html('analysis.html', auto_open=True)"
   ]
  },
  {
   "cell_type": "code",
   "execution_count": null,
   "id": "favorite-charge",
   "metadata": {},
   "outputs": [],
   "source": []
  }
 ],
 "metadata": {
  "kernelspec": {
   "display_name": "Python 3",
   "language": "python",
   "name": "python3"
  },
  "language_info": {
   "codemirror_mode": {
    "name": "ipython",
    "version": 3
   },
   "file_extension": ".py",
   "mimetype": "text/x-python",
   "name": "python",
   "nbconvert_exporter": "python",
   "pygments_lexer": "ipython3",
   "version": "3.9.2"
  }
 },
 "nbformat": 4,
 "nbformat_minor": 5
}
